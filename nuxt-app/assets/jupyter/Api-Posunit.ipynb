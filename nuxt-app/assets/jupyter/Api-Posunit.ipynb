{
 "cells": [
  {
   "cell_type": "markdown",
   "id": "62a77cb9",
   "metadata": {},
   "source": [
    "# ESP32/Arduino API Controller\n",
    "\n",
    "This notebook controls ESP32/Arduino controllers via HTTP requests. It supports servos, stepper motors, LEDs, and button status queries, based on the provided API."
   ]
  },
  {
   "cell_type": "markdown",
   "id": "198ff936",
   "metadata": {},
   "source": [
    "## WiFi Configuration\n",
    "\n",
    "Here you can configure the WiFi settings for your ESP32/Arduino."
   ]
  },
  {
   "cell_type": "code",
   "execution_count": 1,
   "id": "6a96069a",
   "metadata": {},
   "outputs": [],
   "source": [
    "import requests\n",
    "import time\n",
    "import json\n",
    "\n",
    "# WiFi Configuration\n",
    "WIFI_SSID = \"MyWiFi\"  # Enter your WiFi SSID here\n",
    "WIFI_PASSWORD = \"MyPassword\"  # Enter your WiFi password here\n",
    "\n",
    "# Base URL for all API requests - Adjust the IP address to your ESP32/Arduino\n",
    "BASE_URL = \"http://192.168.137.232\"\n",
    "\n",
    "def configure_wifi(ssid=None, password=None):\n",
    "    \"\"\"\n",
    "    Configures the WiFi connection of the ESP32/Arduino.\n",
    "    \n",
    "    Args:\n",
    "        ssid (str): WiFi SSID/network name\n",
    "        password (str): WiFi password\n",
    "        \n",
    "    Returns:\n",
    "        dict or str: The response from the controller or None on error\n",
    "    \"\"\"\n",
    "    if ssid is None:\n",
    "        ssid = WIFI_SSID\n",
    "    if password is None:\n",
    "        password = WIFI_PASSWORD\n",
    "        \n",
    "    params = {\"ssid\": ssid, \"password\": password}\n",
    "    \n",
    "    try:\n",
    "        url = f\"{BASE_URL}/configureWifi\"\n",
    "        response = requests.post(url, json=params, timeout=5)\n",
    "        response.raise_for_status()  # Raises exception for HTTP errors\n",
    "        \n",
    "        print(f\"WiFi configuration sent. SSID: {ssid}\")\n",
    "        \n",
    "        try:\n",
    "            return response.json()  # Try to parse JSON\n",
    "        except ValueError:\n",
    "            return response.text  # If not a JSON response\n",
    "    \n",
    "    except requests.exceptions.RequestException as e:\n",
    "        print(f\"Error in WiFi configuration: {e}\")\n",
    "        return None"
   ]
  },
  {
   "cell_type": "code",
   "execution_count": 2,
   "id": "c1c3ae35",
   "metadata": {},
   "outputs": [
    {
     "name": "stdout",
     "output_type": "stream",
     "text": [
      "Error in WiFi configuration: 404 Client Error: Not Found for url: http://192.168.137.232/configureWifi\n"
     ]
    }
   ],
   "source": [
    "# Send WiFi configuration\n",
    "# Replace the values with your own WiFi data\n",
    "configure_wifi(\"MyWiFi\", \"MyPassword\")"
   ]
  },
  {
   "cell_type": "markdown",
   "id": "53c44fc1",
   "metadata": {},
   "source": [
    "## 1. Import Libraries\n",
    "\n",
    "We only need a few libraries that are available by default in most Python environments."
   ]
  },
  {
   "cell_type": "code",
   "execution_count": 3,
   "id": "add3f9c8",
   "metadata": {},
   "outputs": [],
   "source": [
    "# Libraries have already been imported\n",
    "# All required libraries:\n",
    "# 1. requests - For HTTP requests to the ESP32/Arduino\n",
    "# 2. time - For delays (time.sleep)\n",
    "# 3. json - For processing JSON responses\n",
    "\n",
    "# These libraries were already imported in cell 2 and\n",
    "# are available in all subsequent cells"
   ]
  },
  {
   "cell_type": "markdown",
   "id": "b26b28cf",
   "metadata": {},
   "source": [
    "## 2. Helper Functions for API Requests\n",
    "\n",
    "These functions send HTTP requests to the various API endpoints and return the responses."
   ]
  },
  {
   "cell_type": "code",
   "execution_count": 4,
   "id": "99e14b56",
   "metadata": {},
   "outputs": [],
   "source": [
    "def make_api_request(endpoint, params=None):\n",
    "    \"\"\"\n",
    "    Sends a GET request to the specified API endpoint.\n",
    "    \n",
    "    Args:\n",
    "        endpoint (str): The API endpoint without leading slash\n",
    "        params (dict, optional): Parameters for the request\n",
    "        \n",
    "    Returns:\n",
    "        dict or str: The response from the controller or None on error\n",
    "    \"\"\"\n",
    "    url = f\"{BASE_URL}/{endpoint}\"\n",
    "    \n",
    "    try:\n",
    "        response = requests.get(url, params=params, timeout=5)\n",
    "        response.raise_for_status()  # Raises exception for HTTP errors\n",
    "        \n",
    "        try:\n",
    "            return response.json()  # Try to parse JSON\n",
    "        except ValueError:\n",
    "            return response.text  # If not a JSON response\n",
    "    \n",
    "    except requests.exceptions.RequestException as e:\n",
    "        print(f\"Error in API request: {e}\")\n",
    "        return None"
   ]
  },
  {
   "cell_type": "markdown",
   "id": "5f7e3995",
   "metadata": {},
   "source": [
    "## 3. Control Servo\n",
    "\n",
    "The servo motor can be positioned at various angles between 0 and 90 degrees."
   ]
  },
  {
   "cell_type": "code",
   "execution_count": 5,
   "id": "f56099e8",
   "metadata": {},
   "outputs": [
    {
     "name": "stdout",
     "output_type": "stream",
     "text": [
      "Servo set to 0 degrees.\n",
      "Response: Servo positioned to 0 degrees\n"
     ]
    },
    {
     "data": {
      "text/plain": [
       "'Servo positioned to 0 degrees'"
      ]
     },
     "execution_count": 5,
     "metadata": {},
     "output_type": "execute_result"
    }
   ],
   "source": [
    "def set_servo_angle(angle):\n",
    "    \"\"\"\n",
    "    Controls the servo motor to a specific angle.\n",
    "    \n",
    "    Args:\n",
    "        angle (int): Angle between 0 and 90 degrees\n",
    "        \n",
    "    Returns:\n",
    "        The response from the controller\n",
    "    \"\"\"\n",
    "    if not 0 <= angle <= 90:\n",
    "        print(\"Error: The angle must be between 0 and 90 degrees.\")\n",
    "        return None\n",
    "    \n",
    "    params = {\"angle\": angle}\n",
    "    response = make_api_request(\"setServo\", params)\n",
    "    \n",
    "    print(f\"Servo set to {angle} degrees.\")\n",
    "    print(f\"Response: {response}\")\n",
    "    \n",
    "    return response\n",
    "\n",
    "# Example: Set servo to 0 degrees\n",
    "set_servo_angle(0)"
   ]
  },
  {
   "cell_type": "code",
   "execution_count": 6,
   "id": "4c88c27c",
   "metadata": {},
   "outputs": [
    {
     "name": "stdout",
     "output_type": "stream",
     "text": [
      "Servo set to 45 degrees.\n",
      "Response: Servo positioned to 45 degrees\n"
     ]
    },
    {
     "data": {
      "text/plain": [
       "'Servo positioned to 45 degrees'"
      ]
     },
     "execution_count": 6,
     "metadata": {},
     "output_type": "execute_result"
    }
   ],
   "source": [
    "# Set servo to middle position (45 degrees)\n",
    "set_servo_angle(45)"
   ]
  },
  {
   "cell_type": "markdown",
   "id": "2a303acc",
   "metadata": {},
   "source": [
    "## 4. Control Stepper Motor\n",
    "\n",
    "The stepper motor can be controlled with different step counts, directions, and speeds."
   ]
  },
  {
   "cell_type": "code",
   "execution_count": 7,
   "id": "430bf504",
   "metadata": {},
   "outputs": [
    {
     "name": "stdout",
     "output_type": "stream",
     "text": [
      "Stepper motor moves 4096 steps up.\n",
      "Response: Motor moved 4096 steps in direction 1 with speed 100%\n"
     ]
    },
    {
     "data": {
      "text/plain": [
       "'Motor moved 4096 steps in direction 1 with speed 100%'"
      ]
     },
     "execution_count": 7,
     "metadata": {},
     "output_type": "execute_result"
    }
   ],
   "source": [
    "def move_stepper(steps, direction=1, speed=None):\n",
    "    \"\"\"\n",
    "    Controls the stepper motor.\n",
    "    \n",
    "    Args:\n",
    "        steps (int): Number of steps\n",
    "        direction (int): 1 for up, -1 for down\n",
    "        speed (int, optional): Speed (if supported)\n",
    "        \n",
    "    Returns:\n",
    "        The response from the controller\n",
    "    \"\"\"\n",
    "    if steps < 0:\n",
    "        print(\"Error: The number of steps must be positive.\")\n",
    "        return None\n",
    "    \n",
    "    if direction not in [1, -1]:\n",
    "        print(\"Error: The direction must be 1 (up) or -1 (down).\")\n",
    "        return None\n",
    "    \n",
    "    params = {\n",
    "        \"steps\": steps,\n",
    "        \"direction\": direction\n",
    "    }\n",
    "    \n",
    "    if speed is not None:\n",
    "        params[\"speed\"] = speed\n",
    "    \n",
    "    response = make_api_request(\"setMotor\", params)\n",
    "    \n",
    "    dir_text = \"up\" if direction == 1 else \"down\"\n",
    "    speed_text = f\" with speed {speed}\" if speed is not None else \"\"\n",
    "    print(f\"Stepper motor moves {steps} steps {dir_text}{speed_text}.\")\n",
    "    print(f\"Response: {response}\")\n",
    "    \n",
    "    return response\n",
    "\n",
    "# Example: 4096 steps up (360 degrees)\n",
    "move_stepper(4096, 1)"
   ]
  },
  {
   "cell_type": "code",
   "execution_count": 8,
   "id": "48fa7a79",
   "metadata": {},
   "outputs": [
    {
     "name": "stdout",
     "output_type": "stream",
     "text": [
      "Error in API request: HTTPConnectionPool(host='192.168.137.232', port=80): Read timed out. (read timeout=5)\n",
      "Stepper motor moves 4096 steps down with speed 80.\n",
      "Response: None\n"
     ]
    }
   ],
   "source": [
    "# 4096 steps down with speed\n",
    "move_stepper(4096, -1, 80)"
   ]
  },
  {
   "cell_type": "markdown",
   "id": "fb53b1b1",
   "metadata": {},
   "source": [
    "## 5. Set LED Color\n",
    "\n",
    "The RGB LED can be controlled with hexadecimal color values."
   ]
  },
  {
   "cell_type": "code",
   "execution_count": 9,
   "id": "00dc9773",
   "metadata": {},
   "outputs": [
    {
     "name": "stdout",
     "output_type": "stream",
     "text": [
      "LED color set to #FFFFFF.\n",
      "Response: Color changed to #FFFFFF\n"
     ]
    },
    {
     "data": {
      "text/plain": [
       "'Color changed to #FFFFFF'"
      ]
     },
     "execution_count": 9,
     "metadata": {},
     "output_type": "execute_result"
    }
   ],
   "source": [
    "def set_led_color(color_hex):\n",
    "    \"\"\"\n",
    "    Sets the color of the RGB LED.\n",
    "    \n",
    "    Args:\n",
    "        color_hex (str): Hexadecimal color code (e.g. \"#FF0000\" for red)\n",
    "        \n",
    "    Returns:\n",
    "        The response from the controller\n",
    "    \"\"\"\n",
    "    # Make sure the color has a '#'\n",
    "    if not color_hex.startswith(\"#\"):\n",
    "        color_hex = \"#\" + color_hex\n",
    "    \n",
    "    params = {\"hex\": color_hex}\n",
    "    response = make_api_request(\"hexcolor\", params)\n",
    "    \n",
    "    print(f\"LED color set to {color_hex}.\")\n",
    "    print(f\"Response: {response}\")\n",
    "    \n",
    "    return response\n",
    "\n",
    "# Example: Set LED to white\n",
    "set_led_color(\"#FFFFFF\")"
   ]
  },
  {
   "cell_type": "code",
   "execution_count": 10,
   "id": "c790e8da",
   "metadata": {},
   "outputs": [
    {
     "name": "stdout",
     "output_type": "stream",
     "text": [
      "LED color set to #FF0000.\n",
      "Response: Color changed to #FF0000\n"
     ]
    },
    {
     "data": {
      "text/plain": [
       "'Color changed to #FF0000'"
      ]
     },
     "execution_count": 10,
     "metadata": {},
     "output_type": "execute_result"
    }
   ],
   "source": [
    "# Set LED to red\n",
    "set_led_color(\"#FF0000\")"
   ]
  },
  {
   "cell_type": "code",
   "execution_count": 11,
   "id": "d86eb4c4",
   "metadata": {},
   "outputs": [
    {
     "name": "stdout",
     "output_type": "stream",
     "text": [
      "LED color set to #00FF00.\n",
      "Response: Color changed to #00FF00\n"
     ]
    },
    {
     "data": {
      "text/plain": [
       "'Color changed to #00FF00'"
      ]
     },
     "execution_count": 11,
     "metadata": {},
     "output_type": "execute_result"
    }
   ],
   "source": [
    "# Set LED to green\n",
    "set_led_color(\"#00FF00\")"
   ]
  },
  {
   "cell_type": "code",
   "execution_count": 12,
   "id": "651e7b2e",
   "metadata": {},
   "outputs": [
    {
     "name": "stdout",
     "output_type": "stream",
     "text": [
      "LED color set to #0000FF.\n",
      "Response: Color changed to #0000FF\n"
     ]
    },
    {
     "data": {
      "text/plain": [
       "'Color changed to #0000FF'"
      ]
     },
     "execution_count": 12,
     "metadata": {},
     "output_type": "execute_result"
    }
   ],
   "source": [
    "# Set LED to blue\n",
    "set_led_color(\"#0000FF\")"
   ]
  },
  {
   "cell_type": "markdown",
   "id": "68f6ce68",
   "metadata": {},
   "source": [
    "## 6. Control LED Brightness\n",
    "\n",
    "The brightness of the LEDs can be adjusted from 0 to 100%."
   ]
  },
  {
   "cell_type": "code",
   "execution_count": 13,
   "id": "3f9e7218",
   "metadata": {},
   "outputs": [
    {
     "name": "stdout",
     "output_type": "stream",
     "text": [
      "LED brightness set to 25%.\n",
      "Response: Brightness set to 25\n"
     ]
    },
    {
     "data": {
      "text/plain": [
       "'Brightness set to 25'"
      ]
     },
     "execution_count": 13,
     "metadata": {},
     "output_type": "execute_result"
    }
   ],
   "source": [
    "def set_led_brightness(brightness):\n",
    "    \"\"\"\n",
    "    Sets the brightness of the LED.\n",
    "    \n",
    "    Args:\n",
    "        brightness (int): Brightness level between 0 and 100 percent\n",
    "        \n",
    "    Returns:\n",
    "        The response from the controller\n",
    "    \"\"\"\n",
    "    if not 0 <= brightness <= 100:\n",
    "        print(\"Error: Brightness must be between 0 and 100 percent.\")\n",
    "        return None\n",
    "    \n",
    "    params = {\"value\": brightness}\n",
    "    response = make_api_request(\"setBrightness\", params)\n",
    "    \n",
    "    print(f\"LED brightness set to {brightness}%.\")\n",
    "    print(f\"Response: {response}\")\n",
    "    \n",
    "    return response\n",
    "\n",
    "# Example: Set brightness to 25%\n",
    "set_led_brightness(25)"
   ]
  },
  {
   "cell_type": "code",
   "execution_count": 14,
   "id": "b2b24f41",
   "metadata": {},
   "outputs": [
    {
     "name": "stdout",
     "output_type": "stream",
     "text": [
      "LED brightness set to 100%.\n",
      "Response: Brightness set to 100\n"
     ]
    },
    {
     "data": {
      "text/plain": [
       "'Brightness set to 100'"
      ]
     },
     "execution_count": 14,
     "metadata": {},
     "output_type": "execute_result"
    }
   ],
   "source": [
    "# Set brightness to 100%\n",
    "set_led_brightness(100)"
   ]
  },
  {
   "cell_type": "code",
   "execution_count": 15,
   "id": "147b9c66",
   "metadata": {},
   "outputs": [
    {
     "name": "stdout",
     "output_type": "stream",
     "text": [
      "LED brightness set to 50%.\n",
      "Response: Brightness set to 50\n"
     ]
    },
    {
     "data": {
      "text/plain": [
       "'Brightness set to 50'"
      ]
     },
     "execution_count": 15,
     "metadata": {},
     "output_type": "execute_result"
    }
   ],
   "source": [
    "# Set brightness to 50%\n",
    "set_led_brightness(50)"
   ]
  },
  {
   "cell_type": "markdown",
   "id": "e8a629c5",
   "metadata": {},
   "source": [
    "## 7. Query Button/Switch Status\n",
    "\n",
    "Here the status of the button or switch is queried."
   ]
  },
  {
   "cell_type": "code",
   "execution_count": 16,
   "id": "4b7a2a91",
   "metadata": {},
   "outputs": [
    {
     "name": "stdout",
     "output_type": "stream",
     "text": [
      "Button status: {'pressed': True}\n"
     ]
    },
    {
     "data": {
      "text/plain": [
       "{'pressed': True}"
      ]
     },
     "execution_count": 16,
     "metadata": {},
     "output_type": "execute_result"
    }
   ],
   "source": [
    "def get_button_state():\n",
    "    \"\"\"\n",
    "    Queries the status of the button.\n",
    "    \n",
    "    Returns:\n",
    "        The status of the button (true/false or 1/0) or the response from the controller\n",
    "    \"\"\"\n",
    "    response = make_api_request(\"getButtonState\")\n",
    "    \n",
    "    print(f\"Button status: {response}\")\n",
    "    \n",
    "    return response\n",
    "\n",
    "# Query button status\n",
    "get_button_state()"
   ]
  }
 ],
 "metadata": {
  "kernelspec": {
   "display_name": "Python 3",
   "language": "python",
   "name": "python3"
  },
  "language_info": {
   "codemirror_mode": {
    "name": "ipython",
    "version": 3
   },
   "file_extension": ".py",
   "mimetype": "text/x-python",
   "name": "python",
   "nbconvert_exporter": "python",
   "pygments_lexer": "ipython3",
   "version": "3.11.9"
  }
 },
 "nbformat": 4,
 "nbformat_minor": 5
}
